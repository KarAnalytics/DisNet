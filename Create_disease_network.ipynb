{
  "nbformat": 4,
  "nbformat_minor": 0,
  "metadata": {
    "colab": {
      "name": "Create_disease_network.ipynb",
      "provenance": [],
      "authorship_tag": "ABX9TyPDZwT7X5f5u8sqnRWnUirr",
      "include_colab_link": true
    },
    "kernelspec": {
      "name": "python3",
      "display_name": "Python 3"
    }
  },
  "cells": [
    {
      "cell_type": "markdown",
      "metadata": {
        "id": "view-in-github",
        "colab_type": "text"
      },
      "source": [
        "<a href=\"https://colab.research.google.com/github/KarAnalytics/DisNet/blob/master/Create_disease_network.ipynb\" target=\"_parent\"><img src=\"https://colab.research.google.com/assets/colab-badge.svg\" alt=\"Open In Colab\"/></a>"
      ]
    },
    {
      "cell_type": "markdown",
      "metadata": {
        "id": "aUdXMvCxi8Ug",
        "colab_type": "text"
      },
      "source": [
        "Generate a disease network building upon method proposed in paper \"[Predicting High-Cost Patients at Point of Admission Using Network Science](https://ieeexplore.ieee.org/document/8194838)\" \n",
        "\n",
        "We use the [eICU database](https://www.nature.com/articles/sdata2018178). To access the database, each research has successfully completed the CITI certificate course.  "
      ]
    },
    {
      "cell_type": "code",
      "metadata": {
        "id": "9WPa8aediwST",
        "colab_type": "code",
        "colab": {
          "base_uri": "https://localhost:8080/",
          "height": 34
        },
        "outputId": "ef10948d-5f73-4921-abeb-c40105fd7113"
      },
      "source": [
        "import os\n",
        "import numpy as np\n",
        "import pandas as pd\n",
        "import matplotlib.pyplot as plt\n",
        "import psycopg2\n",
        "import getpass\n",
        "\n",
        "%matplotlib inline\n",
        "os.getcwd()"
      ],
      "execution_count": 2,
      "outputs": [
        {
          "output_type": "execute_result",
          "data": {
            "text/plain": [
              "'/content'"
            ]
          },
          "metadata": {
            "tags": []
          },
          "execution_count": 2
        }
      ]
    }
  ]
}