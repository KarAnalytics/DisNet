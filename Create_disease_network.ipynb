{
 "cells": [
  {
   "cell_type": "markdown",
   "metadata": {
    "colab_type": "text",
    "id": "aUdXMvCxi8Ug"
   },
   "source": [
    "Generate a disease network building upon method proposed in paper \"[Predicting High-Cost Patients at Point of Admission Using Network Science](https://ieeexplore.ieee.org/document/8194838)\" \n",
    "\n",
    "We use the [eICU database](https://www.nature.com/articles/sdata2018178). To access the database, each research has successfully completed the CITI certificate course.  "
   ]
  },
  {
   "cell_type": "code",
   "execution_count": 3,
   "metadata": {
    "colab": {
     "base_uri": "https://localhost:8080/",
     "height": 34
    },
    "colab_type": "code",
    "id": "9WPa8aediwST",
    "outputId": "ef10948d-5f73-4921-abeb-c40105fd7113"
   },
   "outputs": [
    {
     "name": "stdout",
     "output_type": "stream",
     "text": [
      "/Users/karthiksrinivasan/OD/OneDrive - The University of Kansas/RootFolder/github.io/DisNet\n",
      "/Users/karthiksrinivasan/OD/OneDrive - The University of Kansas/RootFolder/Research/MIMIC_eICU\n"
     ]
    }
   ],
   "source": [
    "import os\n",
    "import numpy as np\n",
    "import pandas as pd\n",
    "import matplotlib.pyplot as plt\n",
    "\n",
    "import getpass\n",
    "\n",
    "%matplotlib inline\n",
    "print(os.getcwd())\n",
    "os.chdir('/Users/karthiksrinivasan/OD/OneDrive - The University of Kansas/RootFolder/Research/MIMIC_eICU/')\n",
    "print(os.getcwd())"
   ]
  },
  {
   "cell_type": "code",
   "execution_count": 4,
   "metadata": {},
   "outputs": [
    {
     "name": "stdout",
     "output_type": "stream",
     "text": [
      "(2710672, 7)\n",
      "   diagnosisid  patientunitstayid  activeupondischarge  diagnosisoffset  \\\n",
      "0      4222318             141168                False               72   \n",
      "1      3370568             141168                 True              118   \n",
      "2      4160941             141168                False               72   \n",
      "3      4103261             141168                 True              118   \n",
      "4      3545241             141168                 True              118   \n",
      "\n",
      "                                     diagnosisstring        icd9code  \\\n",
      "0  cardiovascular|chest pain / ASHD|coronary arte...  414.00, I25.10   \n",
      "1  cardiovascular|ventricular disorders|cardiomyo...             NaN   \n",
      "2            pulmonary|disorders of the airways|COPD   491.20, J44.9   \n",
      "3            pulmonary|disorders of the airways|COPD   491.20, J44.9   \n",
      "4  cardiovascular|ventricular disorders|congestiv...    428.0, I50.9   \n",
      "\n",
      "  diagnosispriority  \n",
      "0             Other  \n",
      "1             Other  \n",
      "2             Other  \n",
      "3             Other  \n",
      "4             Other  \n"
     ]
    }
   ],
   "source": [
    "diagnosis = pd.read_csv('eicu/diagnosis.csv')\n",
    "print(diagnosis.shape)\n",
    "print(diagnosis.head())\n"
   ]
  },
  {
   "cell_type": "code",
   "execution_count": 7,
   "metadata": {},
   "outputs": [
    {
     "name": "stdout",
     "output_type": "stream",
     "text": [
      "3933\n"
     ]
    }
   ],
   "source": [
    "## Total unique diagnoses in table:\n",
    "\n",
    "unique_diagnoses_list = diagnosis.diagnosisstring.unique()\n",
    "\n",
    "print(unique_diagnoses_list.shape[0])"
   ]
  },
  {
   "cell_type": "markdown",
   "metadata": {},
   "source": [
    "This table/dataframe has diagnosisid and patientunitstayid and other fields. There may be multiple diagnosisid recorded for each patientunitstayid. \n",
    "\n",
    "Our disease co-occurrence network (DCN) is a directed network that has links between pairs of diagnosis if they co-occurred in a patient visit identified by the patient unitstayid. \n",
    "\n",
    "We create this network using edge tables method. First column is the diagnosis that appeared first. Second columns is the diagnosis that appears after that. The edge weight is proportional to the number of times the pair of diagnosis have appeared in succession in patient visit weighted by the time lapsed between them in each visit. \n",
    "\n",
    "Generating the edge table can be either done in Python or in SQL, or both; it is up to you. "
   ]
  },
  {
   "cell_type": "code",
   "execution_count": null,
   "metadata": {
    "collapsed": true
   },
   "outputs": [],
   "source": []
  }
 ],
 "metadata": {
  "colab": {
   "name": "Create_disease_network.ipynb",
   "provenance": []
  },
  "kernelspec": {
   "display_name": "Python 3",
   "language": "python",
   "name": "python3"
  },
  "language_info": {
   "codemirror_mode": {
    "name": "ipython",
    "version": 3
   },
   "file_extension": ".py",
   "mimetype": "text/x-python",
   "name": "python",
   "nbconvert_exporter": "python",
   "pygments_lexer": "ipython3",
   "version": "3.6.3"
  }
 },
 "nbformat": 4,
 "nbformat_minor": 1
}
